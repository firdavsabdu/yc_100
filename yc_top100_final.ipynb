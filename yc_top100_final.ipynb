{
 "cells": [
  {
   "cell_type": "markdown",
   "metadata": {},
   "source": [
    "# Analysis of YC's top 100 Investments \n",
    "\n",
    "Y Combinator (YC) is one of the leading startup accelerators in the world with close to 1,000 investments over the past 15 years. Some of the world-famous investments include Dropbox, AirBnb, and Twitch. YC put together a list of it's 100 top investments in their [website](https://www.ycombinator.com/topcompanies/), which I will be analyzing today. \n",
    "\n",
    "There are a couple of big questions that I would like to get answers through my analysis:\n",
    "* Which sectors are most represented in top 100?\n",
    "* Companies in which sectors have created the most jobs?\n",
    "* Which year is the most successful for YC (both in job creation and ranking)?"
   ]
  },
  {
   "cell_type": "markdown",
   "metadata": {},
   "source": [
    "## The Data \n",
    "\n",
    "YC published the list of their top 100 investments as of October 2018. \n",
    "\n",
    "In order to gather the data, I scraped YC's website and inputed into a csv format. The file with the YC website scraper and the data itself are in the GitHub folder. \n",
    "\n",
    "The dataset consists of the following columns: \n",
    "* company - name of the company\n",
    "* rank - top 100 rank \n",
    "* description - description of the business \n",
    "* founders - names of founders \n",
    "* sector - market sector\n",
    "* jobs_created - number of jobs created \n",
    "* yc_batch - year and season (Winter or Summer) the company participated in Y Combinator accelerator "
   ]
  },
  {
   "cell_type": "code",
   "execution_count": 1,
   "metadata": {},
   "outputs": [
    {
     "data": {
      "text/html": [
       "<div>\n",
       "<style scoped>\n",
       "    .dataframe tbody tr th:only-of-type {\n",
       "        vertical-align: middle;\n",
       "    }\n",
       "\n",
       "    .dataframe tbody tr th {\n",
       "        vertical-align: top;\n",
       "    }\n",
       "\n",
       "    .dataframe thead th {\n",
       "        text-align: right;\n",
       "    }\n",
       "</style>\n",
       "<table border=\"1\" class=\"dataframe\">\n",
       "  <thead>\n",
       "    <tr style=\"text-align: right;\">\n",
       "      <th></th>\n",
       "      <th>company</th>\n",
       "      <th>rank</th>\n",
       "      <th>description</th>\n",
       "      <th>founders</th>\n",
       "      <th>sector</th>\n",
       "      <th>jobs_created</th>\n",
       "      <th>yc_batch</th>\n",
       "    </tr>\n",
       "  </thead>\n",
       "  <tbody>\n",
       "    <tr>\n",
       "      <th>0</th>\n",
       "      <td>&lt;b class=\"h4\"&gt;Airbnb&lt;/b&gt;</td>\n",
       "      <td>&lt;span class=\"text-center\"&gt;#01&lt;/span&gt;</td>\n",
       "      <td>&lt;p&gt;Airbnb is a global travel community that of...</td>\n",
       "      <td>Brian Chesky Joe Gebbia Nathan Blecharczyk</td>\n",
       "      <td>Consumer Goods and Services</td>\n",
       "      <td>4,000</td>\n",
       "      <td>W2009</td>\n",
       "    </tr>\n",
       "    <tr>\n",
       "      <th>1</th>\n",
       "      <td>&lt;b class=\"h4\"&gt;Stripe&lt;/b&gt;</td>\n",
       "      <td>&lt;span class=\"text-center\"&gt;#02&lt;/span&gt;</td>\n",
       "      <td>&lt;p&gt;Stripe builds economic infrastructure for t...</td>\n",
       "      <td>John Collison Patrick Collison</td>\n",
       "      <td>Financial Technology and Services</td>\n",
       "      <td>1,300</td>\n",
       "      <td>S2010</td>\n",
       "    </tr>\n",
       "    <tr>\n",
       "      <th>2</th>\n",
       "      <td>&lt;b class=\"h4\"&gt;Cruise&lt;/b&gt;</td>\n",
       "      <td>&lt;span class=\"text-center\"&gt;#03&lt;/span&gt;</td>\n",
       "      <td>&lt;p&gt;Cruise is building autonomous vehicles to s...</td>\n",
       "      <td>Kyle Vogt Daniel Kan</td>\n",
       "      <td>Automotive</td>\n",
       "      <td>1000</td>\n",
       "      <td>W2014</td>\n",
       "    </tr>\n",
       "    <tr>\n",
       "      <th>3</th>\n",
       "      <td>&lt;b class=\"h4\"&gt;Dropbox&lt;/b&gt;</td>\n",
       "      <td>&lt;span class=\"text-center\"&gt;#04&lt;/span&gt;</td>\n",
       "      <td>&lt;p&gt;Dropbox is a global collaboration platform ...</td>\n",
       "      <td>Arash Ferdowsi Drew Houston</td>\n",
       "      <td>B2B Software and Services</td>\n",
       "      <td>1,858</td>\n",
       "      <td>S2007</td>\n",
       "    </tr>\n",
       "    <tr>\n",
       "      <th>4</th>\n",
       "      <td>&lt;b class=\"h4\"&gt;Coinbase&lt;/b&gt;</td>\n",
       "      <td>&lt;span class=\"text-center\"&gt;#05&lt;/span&gt;</td>\n",
       "      <td>&lt;p&gt;Coinbase is a digital currency wallet and p...</td>\n",
       "      <td>Brian Armstrong Fred Ehrsam</td>\n",
       "      <td>Financial Technology and Services</td>\n",
       "      <td>500</td>\n",
       "      <td>S2012</td>\n",
       "    </tr>\n",
       "  </tbody>\n",
       "</table>\n",
       "</div>"
      ],
      "text/plain": [
       "                      company                                  rank  \\\n",
       "0    <b class=\"h4\">Airbnb</b>  <span class=\"text-center\">#01</span>   \n",
       "1    <b class=\"h4\">Stripe</b>  <span class=\"text-center\">#02</span>   \n",
       "2    <b class=\"h4\">Cruise</b>  <span class=\"text-center\">#03</span>   \n",
       "3   <b class=\"h4\">Dropbox</b>  <span class=\"text-center\">#04</span>   \n",
       "4  <b class=\"h4\">Coinbase</b>  <span class=\"text-center\">#05</span>   \n",
       "\n",
       "                                         description  \\\n",
       "0  <p>Airbnb is a global travel community that of...   \n",
       "1  <p>Stripe builds economic infrastructure for t...   \n",
       "2  <p>Cruise is building autonomous vehicles to s...   \n",
       "3  <p>Dropbox is a global collaboration platform ...   \n",
       "4  <p>Coinbase is a digital currency wallet and p...   \n",
       "\n",
       "                                         founders  \\\n",
       "0    Brian Chesky Joe Gebbia Nathan Blecharczyk     \n",
       "1                John Collison Patrick Collison     \n",
       "2                          Kyle Vogt Daniel Kan     \n",
       "3                   Arash Ferdowsi Drew Houston     \n",
       "4                   Brian Armstrong Fred Ehrsam     \n",
       "\n",
       "                              sector jobs_created yc_batch  \n",
       "0        Consumer Goods and Services        4,000    W2009  \n",
       "1  Financial Technology and Services        1,300    S2010  \n",
       "2                         Automotive         1000    W2014  \n",
       "3          B2B Software and Services        1,858    S2007  \n",
       "4  Financial Technology and Services          500    S2012  "
      ]
     },
     "execution_count": 1,
     "metadata": {},
     "output_type": "execute_result"
    }
   ],
   "source": [
    "import pandas as pd \n",
    "import numpy as np\n",
    "import matplotlib.pyplot as plt \n",
    "%matplotlib inline\n",
    "\n",
    "yc = pd.read_csv('yc_top100_clean.csv', delimiter=',')\n",
    "\n",
    "yc.head()"
   ]
  },
  {
   "cell_type": "markdown",
   "metadata": {},
   "source": [
    "## Data Cleaning \n",
    "\n",
    "We can see that the table needs a bit of cleaning before we can move forward with our analysis.\n",
    "* company column only needs to have the name of the company\n",
    "* rank column just needs to have the number of ranking, and converted into integer type\n",
    "* description column needs to have text without p tags\n",
    "* jobs_created needs to be converted into integer type\n",
    "* For the yc_batch column, I would only need to extract the year "
   ]
  },
  {
   "cell_type": "code",
   "execution_count": 2,
   "metadata": {},
   "outputs": [
    {
     "data": {
      "text/html": [
       "<div>\n",
       "<style scoped>\n",
       "    .dataframe tbody tr th:only-of-type {\n",
       "        vertical-align: middle;\n",
       "    }\n",
       "\n",
       "    .dataframe tbody tr th {\n",
       "        vertical-align: top;\n",
       "    }\n",
       "\n",
       "    .dataframe thead th {\n",
       "        text-align: right;\n",
       "    }\n",
       "</style>\n",
       "<table border=\"1\" class=\"dataframe\">\n",
       "  <thead>\n",
       "    <tr style=\"text-align: right;\">\n",
       "      <th></th>\n",
       "      <th>company</th>\n",
       "      <th>rank</th>\n",
       "      <th>description</th>\n",
       "      <th>founders</th>\n",
       "      <th>sector</th>\n",
       "      <th>jobs_created</th>\n",
       "      <th>yc_batch</th>\n",
       "    </tr>\n",
       "  </thead>\n",
       "  <tbody>\n",
       "    <tr>\n",
       "      <th>0</th>\n",
       "      <td>Airbnb</td>\n",
       "      <td>1</td>\n",
       "      <td>Airbnb is a global travel community that offer...</td>\n",
       "      <td>Brian Chesky Joe Gebbia Nathan Blecharczyk</td>\n",
       "      <td>Consumer Goods and Services</td>\n",
       "      <td>4000</td>\n",
       "      <td>2009</td>\n",
       "    </tr>\n",
       "    <tr>\n",
       "      <th>1</th>\n",
       "      <td>Stripe</td>\n",
       "      <td>2</td>\n",
       "      <td>Stripe builds economic infrastructure for the ...</td>\n",
       "      <td>John Collison Patrick Collison</td>\n",
       "      <td>Financial Technology and Services</td>\n",
       "      <td>1300</td>\n",
       "      <td>2010</td>\n",
       "    </tr>\n",
       "    <tr>\n",
       "      <th>2</th>\n",
       "      <td>Cruise</td>\n",
       "      <td>3</td>\n",
       "      <td>Cruise is building autonomous vehicles to safe...</td>\n",
       "      <td>Kyle Vogt Daniel Kan</td>\n",
       "      <td>Automotive</td>\n",
       "      <td>1000</td>\n",
       "      <td>2014</td>\n",
       "    </tr>\n",
       "    <tr>\n",
       "      <th>3</th>\n",
       "      <td>Dropbox</td>\n",
       "      <td>4</td>\n",
       "      <td>Dropbox is a global collaboration platform whe...</td>\n",
       "      <td>Arash Ferdowsi Drew Houston</td>\n",
       "      <td>B2B Software and Services</td>\n",
       "      <td>1858</td>\n",
       "      <td>2007</td>\n",
       "    </tr>\n",
       "    <tr>\n",
       "      <th>4</th>\n",
       "      <td>Coinbase</td>\n",
       "      <td>5</td>\n",
       "      <td>Coinbase is a digital currency wallet and plat...</td>\n",
       "      <td>Brian Armstrong Fred Ehrsam</td>\n",
       "      <td>Financial Technology and Services</td>\n",
       "      <td>500</td>\n",
       "      <td>2012</td>\n",
       "    </tr>\n",
       "  </tbody>\n",
       "</table>\n",
       "</div>"
      ],
      "text/plain": [
       "    company  rank                                        description  \\\n",
       "0    Airbnb     1  Airbnb is a global travel community that offer...   \n",
       "1    Stripe     2  Stripe builds economic infrastructure for the ...   \n",
       "2    Cruise     3  Cruise is building autonomous vehicles to safe...   \n",
       "3   Dropbox     4  Dropbox is a global collaboration platform whe...   \n",
       "4  Coinbase     5  Coinbase is a digital currency wallet and plat...   \n",
       "\n",
       "                                         founders  \\\n",
       "0    Brian Chesky Joe Gebbia Nathan Blecharczyk     \n",
       "1                John Collison Patrick Collison     \n",
       "2                          Kyle Vogt Daniel Kan     \n",
       "3                   Arash Ferdowsi Drew Houston     \n",
       "4                   Brian Armstrong Fred Ehrsam     \n",
       "\n",
       "                              sector  jobs_created  yc_batch  \n",
       "0        Consumer Goods and Services          4000      2009  \n",
       "1  Financial Technology and Services          1300      2010  \n",
       "2                         Automotive          1000      2014  \n",
       "3          B2B Software and Services          1858      2007  \n",
       "4  Financial Technology and Services           500      2012  "
      ]
     },
     "execution_count": 2,
     "metadata": {},
     "output_type": "execute_result"
    }
   ],
   "source": [
    "# Fix the company column \n",
    "yc['company'] = yc['company'].str.replace('<b class=\"h4\">', '').str.replace(\"</b>\",'').str.strip()\n",
    "\n",
    "# Fix the rank column & convert to integer\n",
    "yc['rank'] = yc['rank'].str.replace('<span class=\"text-center\">#','').str.replace('</span>','').str.strip()\n",
    "yc['rank'] = yc['rank'].astype(int)\n",
    "\n",
    "#Fix the description column \n",
    "yc['description'] = yc['description'].str.replace('<p>','').str.replace('</p>','')\n",
    "\n",
    "# Delete the ',' and convert jobs_created to integer values \n",
    "yc['jobs_created'] = yc['jobs_created'].str.replace(',','')\n",
    "yc['jobs_created'] = yc['jobs_created'].astype(int)\n",
    " \n",
    "# Extract the year from yc_batch and conver to integer \n",
    "year_pattern = r'([1-2][0-9]{3})'\n",
    "yc['yc_batch'] = yc['yc_batch'].str.extract(year_pattern)\n",
    "yc['yc_batch'] = yc['yc_batch'].astype(int)\n",
    "\n",
    "#Check \n",
    "yc.head()"
   ]
  },
  {
   "cell_type": "markdown",
   "metadata": {},
   "source": [
    "## Most Represented Sectors \n",
    "\n",
    "The first questions I would like to tackle is:\n",
    "* Which sectors are the most represented in the top 100? "
   ]
  },
  {
   "cell_type": "code",
   "execution_count": 3,
   "metadata": {},
   "outputs": [
    {
     "data": {
      "text/plain": [
       "B2B Software and Services            49\n",
       "Consumer Goods and Services          16\n",
       "Consumer Media                       10\n",
       "Financial Technology and Services     9\n",
       "Healthcare                            5\n",
       "Education                             2\n",
       "Automotive                            2\n",
       "Industrial                            2\n",
       "Consumer Goods                        1\n",
       "Blockchain                            1\n",
       "Agriculture                           1\n",
       "Real Estate and Contruction           1\n",
       "Real Estate and Construction          1\n",
       "Aerospace                             1\n",
       "Name: sector, dtype: int64"
      ]
     },
     "execution_count": 3,
     "metadata": {},
     "output_type": "execute_result"
    }
   ],
   "source": [
    "yc['sector'].value_counts()"
   ]
  },
  {
   "cell_type": "markdown",
   "metadata": {},
   "source": [
    "**Observations**\n",
    "\n",
    "We can observe that sectors are distributed unevenly and there is a large number of sectors that only have 1 or 2 companies. In order to produce a better analysis, I will create a function to group sectors that have less than 5 companies into 'other' group. "
   ]
  },
  {
   "cell_type": "code",
   "execution_count": 4,
   "metadata": {},
   "outputs": [
    {
     "data": {
      "text/plain": [
       "<matplotlib.axes._subplots.AxesSubplot at 0x119f338d0>"
      ]
     },
     "execution_count": 4,
     "metadata": {},
     "output_type": "execute_result"
    },
    {
     "data": {
      "image/png": "[encoded data removed]",
      "text/plain": [
       "<Figure size 720x360 with 1 Axes>"
      ]
     },
     "metadata": {},
     "output_type": "display_data"
    }
   ],
   "source": [
    "# create a function to group sectors \n",
    "def sector_group(name):\n",
    "    if name == 'B2B Software and Services':\n",
    "        return 'B2B SaaS'\n",
    "    elif name == 'Consumer Goods and Services' or name == \"Consumer Goods\":\n",
    "        return 'Consumer Product'\n",
    "    elif name == 'Consumer Media':\n",
    "        return 'Media'\n",
    "    elif name == 'Financial Technology and Services':\n",
    "        return 'FinTech'\n",
    "    elif name == \"Healthcare\":\n",
    "        return 'Healthcare'\n",
    "    else: \n",
    "        return 'Other'\n",
    "\n",
    "yc['sector'] = yc['sector'].apply(sector_group)\n",
    "yc_sectors = yc['sector'].value_counts()\n",
    "yc_sectors.plot(kind='pie', figsize = [10,5], title='Sectors in Top 100')\n",
    "    "
   ]
  },
  {
   "cell_type": "markdown",
   "metadata": {},
   "source": [
    "## Jobs Created by Sector \n",
    "\n",
    "Now that we know our distribution of sectors, I would like to find out companies in which sectors created more jobs in total and on average. Becuase B2B SaaS sector is the most represented sector, it's expected that it will lead in total number of jobs created. "
   ]
  },
  {
   "cell_type": "code",
   "execution_count": 23,
   "metadata": {},
   "outputs": [
    {
     "data": {
      "text/plain": [
       "<matplotlib.axes._subplots.AxesSubplot at 0x11af70748>"
      ]
     },
     "execution_count": 23,
     "metadata": {},
     "output_type": "execute_result"
    },
    {
     "data": {
      "image/png": "[encoded data removed]",
      "text/plain": [
       "<Figure size 720x360 with 1 Axes>"
      ]
     },
     "metadata": {
      "needs_background": "light"
     },
     "output_type": "display_data"
    }
   ],
   "source": [
    "jobs_by_sector = yc.pivot_table(values='jobs_created', index='sector', aggfunc=np.sum)\n",
    "jobs_by_sector.plot(kind='barh', figsize=(10,5), title='Total Number Jobs Created by Sector', fontsize=14)"
   ]
  },
  {
   "cell_type": "code",
   "execution_count": 6,
   "metadata": {},
   "outputs": [
    {
     "data": {
      "text/plain": [
       "<matplotlib.axes._subplots.AxesSubplot at 0x11a27d550>"
      ]
     },
     "execution_count": 6,
     "metadata": {},
     "output_type": "execute_result"
    },
    {
     "data": {
      "image/png": "[encoded data removed]",
      "text/plain": [
       "<Figure size 720x360 with 1 Axes>"
      ]
     },
     "metadata": {
      "needs_background": "light"
     },
     "output_type": "display_data"
    }
   ],
   "source": [
    "jobs_by_sector = yc.pivot_table(values='jobs_created', index='sector', aggfunc=np.mean)\n",
    "jobs_by_sector.plot(kind='barh', figsize=(10,5), title='Average Number Jobs Created by Sector',fontsize=14)"
   ]
  },
  {
   "cell_type": "markdown",
   "metadata": {},
   "source": [
    "## Ranking by Sector \n",
    "\n",
    "In this portion I would like to find out which sectors are better ranked within the top 100. "
   ]
  },
  {
   "cell_type": "code",
   "execution_count": 7,
   "metadata": {},
   "outputs": [
    {
     "data": {
      "text/plain": [
       "<matplotlib.axes._subplots.AxesSubplot at 0x11a3c2be0>"
      ]
     },
     "execution_count": 7,
     "metadata": {},
     "output_type": "execute_result"
    },
    {
     "data": {
      "image/png": "[encoded data removed]",
      "text/plain": [
       "<Figure size 720x360 with 1 Axes>"
      ]
     },
     "metadata": {
      "needs_background": "light"
     },
     "output_type": "display_data"
    }
   ],
   "source": [
    "rank = yc.pivot_table(values='rank', index='sector')\n",
    "rank.plot(kind='bar', figsize=(10,5), title='Average Ranking by Sector', fontsize=12)"
   ]
  },
  {
   "cell_type": "markdown",
   "metadata": {},
   "source": [
    "## YC's best Year \n",
    "\n",
    "In this section I would like to find out which year was the most successful for YC when it comes to job creation and ranking of it's investments"
   ]
  },
  {
   "cell_type": "code",
   "execution_count": 8,
   "metadata": {},
   "outputs": [
    {
     "data": {
      "text/plain": [
       "<matplotlib.axes._subplots.AxesSubplot at 0x11a52ad68>"
      ]
     },
     "execution_count": 8,
     "metadata": {},
     "output_type": "execute_result"
    },
    {
     "data": {
      "image/png": "[encoded data removed]",
      "text/plain": [
       "<Figure size 720x360 with 1 Axes>"
      ]
     },
     "metadata": {
      "needs_background": "light"
     },
     "output_type": "display_data"
    }
   ],
   "source": [
    "yc_year_jobs = yc.pivot_table(values='jobs_created', index='yc_batch', aggfunc=np.sum)\n",
    "yc_year_jobs.plot(kind='bar', figsize=(10,5), fontsize=12)"
   ]
  },
  {
   "cell_type": "code",
   "execution_count": 9,
   "metadata": {},
   "outputs": [
    {
     "data": {
      "text/plain": [
       "<matplotlib.axes._subplots.AxesSubplot at 0x11a6ab128>"
      ]
     },
     "execution_count": 9,
     "metadata": {},
     "output_type": "execute_result"
    },
    {
     "data": {
      "image/png": "[encoded data removed]",
      "text/plain": [
       "<Figure size 720x360 with 1 Axes>"
      ]
     },
     "metadata": {
      "needs_background": "light"
     },
     "output_type": "display_data"
    }
   ],
   "source": [
    "yc_year_ranking = yc.pivot_table(values='rank', index='yc_batch')\n",
    "yc_year_ranking.plot(kind='bar', figsize=(10,5), fontsize=12)"
   ]
  },
  {
   "cell_type": "markdown",
   "metadata": {},
   "source": [
    "## How many founders?\n",
    "\n",
    "In this section I would like to find out the breakdown of founding teams, and how many startups in the top 100 had a solo founder. My expection is that majority of companies will have 2+ founders."
   ]
  },
  {
   "cell_type": "code",
   "execution_count": 10,
   "metadata": {},
   "outputs": [
    {
     "data": {
      "text/plain": [
       "<matplotlib.axes._subplots.AxesSubplot at 0x11a814a58>"
      ]
     },
     "execution_count": 10,
     "metadata": {},
     "output_type": "execute_result"
    },
    {
     "data": {
      "image/png": "[encoded data removed]",
      "text/plain": [
       "<Figure size 360x360 with 1 Axes>"
      ]
     },
     "metadata": {},
     "output_type": "display_data"
    }
   ],
   "source": [
    "pattern = r'([A-Z])\\w+'\n",
    "\n",
    "number_of_founders = yc['founders'].str.count(pattern) / 2\n",
    "number_of_founders.mean()\n",
    "\n",
    "def founder_cats(val):\n",
    "    if val < 2:\n",
    "        return \"1 Founder\"\n",
    "    elif val <3:\n",
    "        return \"2 Founders\"\n",
    "    elif val <4:\n",
    "        return '3 Founders'\n",
    "    else: \n",
    "        return \"4+ Founders\"\n",
    "#number_of_founders.value_counts() \n",
    "\n",
    "founder_groups = number_of_founders.apply(founder_cats)\n",
    "founder_groups = founder_groups.value_counts()\n",
    "founder_groups.plot(kind='pie', figsize=[5,5], title='Number of founders per company', fontsize=13)"
   ]
  },
  {
   "cell_type": "markdown",
   "metadata": {},
   "source": [
    "## How many companies were acquired?\n",
    "\n",
    "In this step, I would like to find what percentage of companies were acquired, and who are the major acquirers. I can extract this information from the description column.  "
   ]
  },
  {
   "cell_type": "code",
   "execution_count": 13,
   "metadata": {},
   "outputs": [
    {
     "data": {
      "text/plain": [
       "<matplotlib.axes._subplots.AxesSubplot at 0x11acb4a20>"
      ]
     },
     "execution_count": 13,
     "metadata": {},
     "output_type": "execute_result"
    },
    {
     "data": {
      "image/png": "[encoded data removed]",
      "text/plain": [
       "<Figure size 360x360 with 1 Axes>"
      ]
     },
     "metadata": {},
     "output_type": "display_data"
    }
   ],
   "source": [
    "acquired_pattern = r\"([Aa]cquired)\"\n",
    "\n",
    "yc['acquired'] = yc['description'].str.extract(acquired_pattern)\n",
    "yc['acquired'] = yc['acquired'].fillna('Active')\n",
    "\n",
    "yc_acquired = yc['acquired'].value_counts()\n",
    "yc_acquired.plot(kind='pie', figsize=[5,5], title='Number of companies acquired', fontsize=13)"
   ]
  },
  {
   "cell_type": "code",
   "execution_count": 19,
   "metadata": {},
   "outputs": [
    {
     "data": {
      "text/plain": [
       "Square        2\n",
       "Zynga         1\n",
       "IBM           1\n",
       "Amazon        1\n",
       "Google        1\n",
       "SiriusXM      1\n",
       "Blackrock     1\n",
       "JPMorgan      1\n",
       "Conde         1\n",
       "Salesforce    1\n",
       "GM            1\n",
       "Red           1\n",
       "Name: acquired_by, dtype: int64"
      ]
     },
     "execution_count": 19,
     "metadata": {},
     "output_type": "execute_result"
    }
   ],
   "source": [
    "acquired_pattern = r\"[Aa]cquired by ([A-Za-z]+)\"\n",
    "\n",
    "yc_acquired_by = yc['description'].str.extract(acquired_pattern)\n",
    "\n",
    "yc['acquired_by'] = yc['description'].str.extract(acquired_pattern)\n",
    "yc['acquired_by'].value_counts()"
   ]
  },
  {
   "cell_type": "markdown",
   "metadata": {},
   "source": [
    "# Conclusion"
   ]
  },
  {
   "cell_type": "markdown",
   "metadata": {},
   "source": [
    "In this project I analyzed Y Combinator's top 100 investments since its inception in 2005. Here are the biggest insights derived from the analysis. \n",
    "\n",
    "**Breakdown by Sector**\n",
    "\n",
    "The most represented sector in the top 100 is B2B SaaS sector with 49 companies. Other significant categories included Consumer Products and Media. \n",
    "\n",
    "Companies in B2B SaaS and Consumer Product have created more than 20,000 jobs, more than half of total jobs created by top 100 YC companies. \n",
    "\n",
    "On average, companies in Consumer Product sector created the highest number of jobs - 500+. This result can mostly be attributed to AirBnB, which created 4,000 by itself.  \n",
    "\n",
    "When it comes to ranking, FinTech companies were the highest ranked on average. Healthcare companies ranked lowest among the top 100. \n",
    "\n",
    "**YC's Best Year**\n",
    "\n",
    "YC's companies created a lot of jobs. The best year of investments for the accelerator was 2009. Companies in this year created the largest number of jobs. This success can be mostly attributed to AirBnB. \n",
    "\n",
    "YC's best year when it comes to ranking is inconclusive. \n",
    "\n",
    "**Number of Founders per team**\n",
    "\n",
    "Our analysis showed that amoung the top 100 YC companies, more than 50% of companies had 2 founders, and close to 25% had 3 founders. Only 12% of companies in the top 100 had a solo founder. \n",
    "\n",
    "**Major Acquirers** \n",
    "\n",
    "From the top 100, 13 companies were acquired and 1 went public (Dropbox). \n",
    "\n",
    "Our analysis showed that Square had the largest number of acquisitions with a grand total of 2. Other acquirers had 1 each. The list includes the likes of Google, Amazon, IBM, and Salesforce. "
   ]
  }
 ],
 "metadata": {
  "kernelspec": {
   "display_name": "Python 3",
   "language": "python",
   "name": "python3"
  },
  "language_info": {
   "codemirror_mode": {
    "name": "ipython",
    "version": 3
   },
   "file_extension": ".py",
   "mimetype": "text/x-python",
   "name": "python",
   "nbconvert_exporter": "python",
   "pygments_lexer": "ipython3",
   "version": "3.7.3"
  }
 },
 "nbformat": 4,
 "nbformat_minor": 2
}
